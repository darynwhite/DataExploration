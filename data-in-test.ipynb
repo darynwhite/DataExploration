{
 "cells": [
  {
   "cell_type": "code",
   "execution_count": null,
   "metadata": {},
   "outputs": [],
   "source": [
    "# import xarray as xr\n",
    "import erddapy"
   ]
  },
  {
   "cell_type": "code",
   "execution_count": null,
   "metadata": {},
   "outputs": [],
   "source": [
    "server = erddapy.ERDDAP(\"https://data.pmel.noaa.gov/pmel/erddap\")\n",
    "server.protocol = \"tabledap\"\n",
    "server.dataset_id = \"pmelTaoDyT\"\n",
    "server.response = \"nc\"\n",
    "server.variables = [\"latitude\", \"longitude\", \"T_20\", \"time\", \"station\", \"depth\"]\n",
    "\n",
    "server.get_download_url()\n",
    "# tz = xr.open_dataset(\"pmelTaoDyT_510f_ce29_2980.nc\")\n",
    "# download link: https://data.pmel.noaa.gov/pmel/erddap/tabledap/pmelTaoDyT.nc?array%2Cstation%2Cwmo_platform_code%2Clongitude%2Clatitude%2Ctime%2Cdepth%2CT_20%2CQT_5020%2CST_6020&time%3E=1990-01-01&time%3C=2023-02-14T12%3A00%3A00Z"
   ]
  },
  {
   "cell_type": "code",
   "execution_count": null,
   "metadata": {},
   "outputs": [],
   "source": [
    "tz = server.to_xarray()"
   ]
  },
  {
   "cell_type": "code",
   "execution_count": null,
   "metadata": {},
   "outputs": [],
   "source": [
    "tz"
   ]
  },
  {
   "cell_type": "code",
   "execution_count": null,
   "metadata": {},
   "outputs": [],
   "source": [
    "tz[\"time\"][0].values"
   ]
  },
  {
   "cell_type": "code",
   "execution_count": null,
   "metadata": {},
   "outputs": [],
   "source": [
    "tz_frame = tz.to_dataframe()"
   ]
  },
  {
   "cell_type": "code",
   "execution_count": null,
   "metadata": {},
   "outputs": [],
   "source": [
    "sample = tz_frame[(tz_frame[\"depth\"] == 100) & (tz_frame[\"time\"] > \"2020-01-01\") & (tz_frame[\"T_20\"].notna())]\n",
    "# sample[sample[\"T_20\"].notna()]\n",
    "sample"
   ]
  },
  {
   "cell_type": "code",
   "execution_count": null,
   "metadata": {},
   "outputs": [],
   "source": [
    "sample.max(), sample.min()"
   ]
  },
  {
   "cell_type": "code",
   "execution_count": null,
   "metadata": {},
   "outputs": [],
   "source": [
    "import plotly.graph_objects as plgo\n",
    "# from plotly import \n",
    "# px.set_mapbox_access_token(\"pk.eyJ1IjoiZGFyeW53aGl0ZSIsImEiOiJjbG9ubG03bmQwd216MmluM2RjdXBmMmQzIn0.XjrEesfj89ktjIoJuOUZYA\")"
   ]
  },
  {
   "cell_type": "markdown",
   "metadata": {},
   "source": [
    "Notes for later:\n",
    "\n",
    "- Move away from `plotly.express` and generate the animation myself, using `plotly.graph_objs` with more control\n",
    "- It is possible to adjust the `duration` of each `frame` of the animation, see this example: https://plotly.com/python/visualizing-mri-volume-slices/\n",
    "- More on building an animation: https://plotly.com/python/animations/"
   ]
  },
  {
   "cell_type": "code",
   "execution_count": null,
   "metadata": {},
   "outputs": [],
   "source": [
    "fig = px.scatter_mapbox(\n",
    "    sample, \n",
    "    lat=\"latitude\", \n",
    "    lon=\"longitude\", \n",
    "    color=\"T_20\",\n",
    "    color_continuous_scale=px.colors.sequential.Bluered,\n",
    "    range_color=[10,30.5],\n",
    "    animation_frame=\"time\",\n",
    "    animation_group=\"station\",\n",
    "    mapbox_style=\"carto-positron\",\n",
    "    zoom=1.45, \n",
    "    center=dict(lat=0,lon=-160),\n",
    "    title=\"100m water temperature\",\n",
    ")\n",
    "fig"
   ]
  },
  {
   "cell_type": "code",
   "execution_count": null,
   "metadata": {},
   "outputs": [],
   "source": [
    "fig.data"
   ]
  }
 ],
 "metadata": {
  "kernelspec": {
   "display_name": "tmba",
   "language": "python",
   "name": "python3"
  },
  "language_info": {
   "codemirror_mode": {
    "name": "ipython",
    "version": 3
   },
   "file_extension": ".py",
   "mimetype": "text/x-python",
   "name": "python",
   "nbconvert_exporter": "python",
   "pygments_lexer": "ipython3",
   "version": "3.12.0"
  }
 },
 "nbformat": 4,
 "nbformat_minor": 2
}
